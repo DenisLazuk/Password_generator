{
 "cells": [
  {
   "cell_type": "code",
   "execution_count": 1,
   "id": "8d249084",
   "metadata": {},
   "outputs": [],
   "source": [
    "import random\n",
    "import string"
   ]
  },
  {
   "cell_type": "code",
   "execution_count": 12,
   "id": "d671fb47",
   "metadata": {},
   "outputs": [],
   "source": [
    "first_name = \"Julie\"\n",
    "last_name = \"BLEVINS\""
   ]
  },
  {
   "cell_type": "code",
   "execution_count": 13,
   "id": "c2644dfb",
   "metadata": {},
   "outputs": [],
   "source": [
    "def account_generator(first_name, last_name):\n",
    "  i = random.randint(1,len(first_name))\n",
    "  n = random.randint(1,len(last_name))\n",
    "  new_acc_name = first_name[len(first_name)-i:] + last_name[len(last_name)-n:] + str(random.randint(1,999)) + random.choice(string.punctuation)\n",
    "  return new_acc_name"
   ]
  },
  {
   "cell_type": "code",
   "execution_count": 14,
   "id": "ba88e036",
   "metadata": {},
   "outputs": [
    {
     "name": "stdout",
     "output_type": "stream",
     "text": [
      "eEVINS1_\n"
     ]
    }
   ],
   "source": [
    "new_account = account_generator(first_name, last_name)\n",
    "print(new_account)"
   ]
  }
 ],
 "metadata": {
  "kernelspec": {
   "display_name": "Python 3 (ipykernel)",
   "language": "python",
   "name": "python3"
  },
  "language_info": {
   "codemirror_mode": {
    "name": "ipython",
    "version": 3
   },
   "file_extension": ".py",
   "mimetype": "text/x-python",
   "name": "python",
   "nbconvert_exporter": "python",
   "pygments_lexer": "ipython3",
   "version": "3.9.7"
  }
 },
 "nbformat": 4,
 "nbformat_minor": 5
}
